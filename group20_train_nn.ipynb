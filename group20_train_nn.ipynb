{
 "cells": [
  {
   "cell_type": "markdown",
   "metadata": {},
   "source": [
    "# Importing Necessary Packges\n",
    "Importing the libraries required to manipulate and make sense of our data"
   ]
  },
  {
   "cell_type": "code",
   "execution_count": 1,
   "metadata": {},
   "outputs": [],
   "source": [
    "import sklearn\n",
    "import warnings\n",
    "%matplotlib inline\n",
    "import numpy as np \n",
    "import pandas as pd\n",
    "import seaborn as sns\n",
    "from astropy.table import Table \n",
    "from sklearn import svm, metrics\n",
    "from matplotlib import pyplot as plt\n",
    "from sklearn.externals import joblib\n",
    "from sklearn.preprocessing import StandardScaler\n",
    "from sklearn.neural_network import MLPClassifier\n",
    "from sklearn.model_selection import cross_val_score\n",
    "from sklearn.model_selection import train_test_split  \n",
    "from sklearn.metrics import classification_report, confusion_matrix  "
   ]
  },
  {
   "cell_type": "markdown",
   "metadata": {},
   "source": [
    "# Reading in Data"
   ]
  },
  {
   "cell_type": "markdown",
   "metadata": {},
   "source": [
    "Using the data files split in the previous notebook, we will read in the following datasets and concatenate them using Pandas.\n",
    "\n",
    "##### Datasets utilized:\n",
    "- group20_train.csv\n",
    "- group20_cv.csv"
   ]
  },
  {
   "cell_type": "code",
   "execution_count": 2,
   "metadata": {},
   "outputs": [
    {
     "data": {
      "text/html": [
       "<div>\n",
       "<style scoped>\n",
       "    .dataframe tbody tr th:only-of-type {\n",
       "        vertical-align: middle;\n",
       "    }\n",
       "\n",
       "    .dataframe tbody tr th {\n",
       "        vertical-align: top;\n",
       "    }\n",
       "\n",
       "    .dataframe thead th {\n",
       "        text-align: right;\n",
       "    }\n",
       "</style>\n",
       "<table border=\"1\" class=\"dataframe\">\n",
       "  <thead>\n",
       "    <tr style=\"text-align: right;\">\n",
       "      <th></th>\n",
       "      <th>0</th>\n",
       "      <th>1</th>\n",
       "      <th>2</th>\n",
       "      <th>3</th>\n",
       "      <th>4</th>\n",
       "      <th>5</th>\n",
       "      <th>6</th>\n",
       "      <th>7</th>\n",
       "      <th>8</th>\n",
       "      <th>9</th>\n",
       "      <th>...</th>\n",
       "      <th>775</th>\n",
       "      <th>776</th>\n",
       "      <th>777</th>\n",
       "      <th>778</th>\n",
       "      <th>779</th>\n",
       "      <th>780</th>\n",
       "      <th>781</th>\n",
       "      <th>782</th>\n",
       "      <th>783</th>\n",
       "      <th>784</th>\n",
       "    </tr>\n",
       "  </thead>\n",
       "  <tbody>\n",
       "    <tr>\n",
       "      <th>0</th>\n",
       "      <td>0</td>\n",
       "      <td>0</td>\n",
       "      <td>0</td>\n",
       "      <td>0</td>\n",
       "      <td>0</td>\n",
       "      <td>0</td>\n",
       "      <td>0</td>\n",
       "      <td>0</td>\n",
       "      <td>0</td>\n",
       "      <td>0</td>\n",
       "      <td>...</td>\n",
       "      <td>0</td>\n",
       "      <td>0</td>\n",
       "      <td>0</td>\n",
       "      <td>0</td>\n",
       "      <td>0</td>\n",
       "      <td>0</td>\n",
       "      <td>0</td>\n",
       "      <td>0</td>\n",
       "      <td>0</td>\n",
       "      <td>0</td>\n",
       "    </tr>\n",
       "    <tr>\n",
       "      <th>1</th>\n",
       "      <td>0</td>\n",
       "      <td>0</td>\n",
       "      <td>0</td>\n",
       "      <td>0</td>\n",
       "      <td>0</td>\n",
       "      <td>0</td>\n",
       "      <td>0</td>\n",
       "      <td>0</td>\n",
       "      <td>0</td>\n",
       "      <td>0</td>\n",
       "      <td>...</td>\n",
       "      <td>0</td>\n",
       "      <td>0</td>\n",
       "      <td>0</td>\n",
       "      <td>0</td>\n",
       "      <td>0</td>\n",
       "      <td>0</td>\n",
       "      <td>0</td>\n",
       "      <td>0</td>\n",
       "      <td>0</td>\n",
       "      <td>0</td>\n",
       "    </tr>\n",
       "    <tr>\n",
       "      <th>2</th>\n",
       "      <td>0</td>\n",
       "      <td>0</td>\n",
       "      <td>0</td>\n",
       "      <td>0</td>\n",
       "      <td>0</td>\n",
       "      <td>0</td>\n",
       "      <td>0</td>\n",
       "      <td>0</td>\n",
       "      <td>0</td>\n",
       "      <td>0</td>\n",
       "      <td>...</td>\n",
       "      <td>0</td>\n",
       "      <td>0</td>\n",
       "      <td>0</td>\n",
       "      <td>0</td>\n",
       "      <td>0</td>\n",
       "      <td>0</td>\n",
       "      <td>0</td>\n",
       "      <td>0</td>\n",
       "      <td>0</td>\n",
       "      <td>4</td>\n",
       "    </tr>\n",
       "    <tr>\n",
       "      <th>3</th>\n",
       "      <td>0</td>\n",
       "      <td>0</td>\n",
       "      <td>0</td>\n",
       "      <td>0</td>\n",
       "      <td>0</td>\n",
       "      <td>0</td>\n",
       "      <td>0</td>\n",
       "      <td>0</td>\n",
       "      <td>0</td>\n",
       "      <td>0</td>\n",
       "      <td>...</td>\n",
       "      <td>0</td>\n",
       "      <td>0</td>\n",
       "      <td>0</td>\n",
       "      <td>0</td>\n",
       "      <td>0</td>\n",
       "      <td>0</td>\n",
       "      <td>0</td>\n",
       "      <td>0</td>\n",
       "      <td>0</td>\n",
       "      <td>2</td>\n",
       "    </tr>\n",
       "    <tr>\n",
       "      <th>4</th>\n",
       "      <td>0</td>\n",
       "      <td>0</td>\n",
       "      <td>0</td>\n",
       "      <td>0</td>\n",
       "      <td>0</td>\n",
       "      <td>0</td>\n",
       "      <td>0</td>\n",
       "      <td>0</td>\n",
       "      <td>0</td>\n",
       "      <td>0</td>\n",
       "      <td>...</td>\n",
       "      <td>0</td>\n",
       "      <td>0</td>\n",
       "      <td>0</td>\n",
       "      <td>0</td>\n",
       "      <td>0</td>\n",
       "      <td>0</td>\n",
       "      <td>0</td>\n",
       "      <td>0</td>\n",
       "      <td>0</td>\n",
       "      <td>7</td>\n",
       "    </tr>\n",
       "  </tbody>\n",
       "</table>\n",
       "<p>5 rows × 785 columns</p>\n",
       "</div>"
      ],
      "text/plain": [
       "   0  1  2  3  4  5  6  7  8  9  ...  775  776  777  778  779  780  781  782  \\\n",
       "0  0  0  0  0  0  0  0  0  0  0  ...    0    0    0    0    0    0    0    0   \n",
       "1  0  0  0  0  0  0  0  0  0  0  ...    0    0    0    0    0    0    0    0   \n",
       "2  0  0  0  0  0  0  0  0  0  0  ...    0    0    0    0    0    0    0    0   \n",
       "3  0  0  0  0  0  0  0  0  0  0  ...    0    0    0    0    0    0    0    0   \n",
       "4  0  0  0  0  0  0  0  0  0  0  ...    0    0    0    0    0    0    0    0   \n",
       "\n",
       "   783  784  \n",
       "0    0    0  \n",
       "1    0    0  \n",
       "2    0    4  \n",
       "3    0    2  \n",
       "4    0    7  \n",
       "\n",
       "[5 rows x 785 columns]"
      ]
     },
     "execution_count": 2,
     "metadata": {},
     "output_type": "execute_result"
    }
   ],
   "source": [
    "#warnings.simplefilter('ignore')\n",
    "training = pd.read_csv(\"group20_train.csv\") #training portion of the data\n",
    "cv = pd.read_csv(\"group20_cv.csv\") # CV portion of the data\n",
    "\n",
    "frames = [training, cv]\n",
    "\n",
    "trainData = pd.concat(frames)\n",
    "trainData.shape\n",
    "trainData.head()"
   ]
  },
  {
   "cell_type": "markdown",
   "metadata": {},
   "source": [
    "# Seperating the Input and Output variables\n",
    "Assigning the Input and Output to X and y, respectively for our training set"
   ]
  },
  {
   "cell_type": "code",
   "execution_count": 3,
   "metadata": {},
   "outputs": [],
   "source": [
    "m = trainData.shape[0]\n",
    "n = trainData.shape[1]-1\n",
    "\n",
    "X_train = trainData.drop(['784'], axis=1)\n",
    "y_train = trainData['784'] "
   ]
  },
  {
   "cell_type": "markdown",
   "metadata": {},
   "source": [
    "# Feature Scaling\n"
   ]
  },
  {
   "cell_type": "markdown",
   "metadata": {},
   "source": [
    "We will be Scaling our features using the sklearn library. \n"
   ]
  },
  {
   "cell_type": "code",
   "execution_count": 4,
   "metadata": {},
   "outputs": [
    {
     "name": "stderr",
     "output_type": "stream",
     "text": [
      "/anaconda3/lib/python3.7/site-packages/sklearn/preprocessing/data.py:645: DataConversionWarning: Data with input dtype int64 were all converted to float64 by StandardScaler.\n",
      "  return self.partial_fit(X, y)\n",
      "/anaconda3/lib/python3.7/site-packages/ipykernel_launcher.py:3: DataConversionWarning: Data with input dtype int64 were all converted to float64 by StandardScaler.\n",
      "  This is separate from the ipykernel package so we can avoid doing imports until\n"
     ]
    },
    {
     "data": {
      "text/html": [
       "<div>\n",
       "<style scoped>\n",
       "    .dataframe tbody tr th:only-of-type {\n",
       "        vertical-align: middle;\n",
       "    }\n",
       "\n",
       "    .dataframe tbody tr th {\n",
       "        vertical-align: top;\n",
       "    }\n",
       "\n",
       "    .dataframe thead th {\n",
       "        text-align: right;\n",
       "    }\n",
       "</style>\n",
       "<table border=\"1\" class=\"dataframe\">\n",
       "  <thead>\n",
       "    <tr style=\"text-align: right;\">\n",
       "      <th></th>\n",
       "      <th>0</th>\n",
       "      <th>1</th>\n",
       "      <th>2</th>\n",
       "      <th>3</th>\n",
       "      <th>4</th>\n",
       "      <th>5</th>\n",
       "      <th>6</th>\n",
       "      <th>7</th>\n",
       "      <th>8</th>\n",
       "      <th>9</th>\n",
       "      <th>...</th>\n",
       "      <th>774</th>\n",
       "      <th>775</th>\n",
       "      <th>776</th>\n",
       "      <th>777</th>\n",
       "      <th>778</th>\n",
       "      <th>779</th>\n",
       "      <th>780</th>\n",
       "      <th>781</th>\n",
       "      <th>782</th>\n",
       "      <th>783</th>\n",
       "    </tr>\n",
       "  </thead>\n",
       "  <tbody>\n",
       "    <tr>\n",
       "      <th>0</th>\n",
       "      <td>0.0</td>\n",
       "      <td>0.0</td>\n",
       "      <td>0.0</td>\n",
       "      <td>0.0</td>\n",
       "      <td>0.0</td>\n",
       "      <td>0.0</td>\n",
       "      <td>0.0</td>\n",
       "      <td>0.0</td>\n",
       "      <td>0.0</td>\n",
       "      <td>0.0</td>\n",
       "      <td>...</td>\n",
       "      <td>-0.032426</td>\n",
       "      <td>-0.025831</td>\n",
       "      <td>-0.019102</td>\n",
       "      <td>-0.018481</td>\n",
       "      <td>-0.018394</td>\n",
       "      <td>0.0</td>\n",
       "      <td>0.0</td>\n",
       "      <td>0.0</td>\n",
       "      <td>0.0</td>\n",
       "      <td>0.0</td>\n",
       "    </tr>\n",
       "    <tr>\n",
       "      <th>1</th>\n",
       "      <td>0.0</td>\n",
       "      <td>0.0</td>\n",
       "      <td>0.0</td>\n",
       "      <td>0.0</td>\n",
       "      <td>0.0</td>\n",
       "      <td>0.0</td>\n",
       "      <td>0.0</td>\n",
       "      <td>0.0</td>\n",
       "      <td>0.0</td>\n",
       "      <td>0.0</td>\n",
       "      <td>...</td>\n",
       "      <td>-0.032426</td>\n",
       "      <td>-0.025831</td>\n",
       "      <td>-0.019102</td>\n",
       "      <td>-0.018481</td>\n",
       "      <td>-0.018394</td>\n",
       "      <td>0.0</td>\n",
       "      <td>0.0</td>\n",
       "      <td>0.0</td>\n",
       "      <td>0.0</td>\n",
       "      <td>0.0</td>\n",
       "    </tr>\n",
       "    <tr>\n",
       "      <th>2</th>\n",
       "      <td>0.0</td>\n",
       "      <td>0.0</td>\n",
       "      <td>0.0</td>\n",
       "      <td>0.0</td>\n",
       "      <td>0.0</td>\n",
       "      <td>0.0</td>\n",
       "      <td>0.0</td>\n",
       "      <td>0.0</td>\n",
       "      <td>0.0</td>\n",
       "      <td>0.0</td>\n",
       "      <td>...</td>\n",
       "      <td>-0.032426</td>\n",
       "      <td>-0.025831</td>\n",
       "      <td>-0.019102</td>\n",
       "      <td>-0.018481</td>\n",
       "      <td>-0.018394</td>\n",
       "      <td>0.0</td>\n",
       "      <td>0.0</td>\n",
       "      <td>0.0</td>\n",
       "      <td>0.0</td>\n",
       "      <td>0.0</td>\n",
       "    </tr>\n",
       "    <tr>\n",
       "      <th>3</th>\n",
       "      <td>0.0</td>\n",
       "      <td>0.0</td>\n",
       "      <td>0.0</td>\n",
       "      <td>0.0</td>\n",
       "      <td>0.0</td>\n",
       "      <td>0.0</td>\n",
       "      <td>0.0</td>\n",
       "      <td>0.0</td>\n",
       "      <td>0.0</td>\n",
       "      <td>0.0</td>\n",
       "      <td>...</td>\n",
       "      <td>-0.032426</td>\n",
       "      <td>-0.025831</td>\n",
       "      <td>-0.019102</td>\n",
       "      <td>-0.018481</td>\n",
       "      <td>-0.018394</td>\n",
       "      <td>0.0</td>\n",
       "      <td>0.0</td>\n",
       "      <td>0.0</td>\n",
       "      <td>0.0</td>\n",
       "      <td>0.0</td>\n",
       "    </tr>\n",
       "    <tr>\n",
       "      <th>4</th>\n",
       "      <td>0.0</td>\n",
       "      <td>0.0</td>\n",
       "      <td>0.0</td>\n",
       "      <td>0.0</td>\n",
       "      <td>0.0</td>\n",
       "      <td>0.0</td>\n",
       "      <td>0.0</td>\n",
       "      <td>0.0</td>\n",
       "      <td>0.0</td>\n",
       "      <td>0.0</td>\n",
       "      <td>...</td>\n",
       "      <td>-0.032426</td>\n",
       "      <td>-0.025831</td>\n",
       "      <td>-0.019102</td>\n",
       "      <td>-0.018481</td>\n",
       "      <td>-0.018394</td>\n",
       "      <td>0.0</td>\n",
       "      <td>0.0</td>\n",
       "      <td>0.0</td>\n",
       "      <td>0.0</td>\n",
       "      <td>0.0</td>\n",
       "    </tr>\n",
       "  </tbody>\n",
       "</table>\n",
       "<p>5 rows × 784 columns</p>\n",
       "</div>"
      ],
      "text/plain": [
       "   0    1    2    3    4    5    6    7    8    9    ...       774       775  \\\n",
       "0  0.0  0.0  0.0  0.0  0.0  0.0  0.0  0.0  0.0  0.0  ... -0.032426 -0.025831   \n",
       "1  0.0  0.0  0.0  0.0  0.0  0.0  0.0  0.0  0.0  0.0  ... -0.032426 -0.025831   \n",
       "2  0.0  0.0  0.0  0.0  0.0  0.0  0.0  0.0  0.0  0.0  ... -0.032426 -0.025831   \n",
       "3  0.0  0.0  0.0  0.0  0.0  0.0  0.0  0.0  0.0  0.0  ... -0.032426 -0.025831   \n",
       "4  0.0  0.0  0.0  0.0  0.0  0.0  0.0  0.0  0.0  0.0  ... -0.032426 -0.025831   \n",
       "\n",
       "        776       777       778  779  780  781  782  783  \n",
       "0 -0.019102 -0.018481 -0.018394  0.0  0.0  0.0  0.0  0.0  \n",
       "1 -0.019102 -0.018481 -0.018394  0.0  0.0  0.0  0.0  0.0  \n",
       "2 -0.019102 -0.018481 -0.018394  0.0  0.0  0.0  0.0  0.0  \n",
       "3 -0.019102 -0.018481 -0.018394  0.0  0.0  0.0  0.0  0.0  \n",
       "4 -0.019102 -0.018481 -0.018394  0.0  0.0  0.0  0.0  0.0  \n",
       "\n",
       "[5 rows x 784 columns]"
      ]
     },
     "metadata": {},
     "output_type": "display_data"
    },
    {
     "data": {
      "text/plain": [
       "(8000, 784)"
      ]
     },
     "execution_count": 4,
     "metadata": {},
     "output_type": "execute_result"
    }
   ],
   "source": [
    "scaler = StandardScaler()  \n",
    "scaler.fit(X_train)\n",
    "X_trainScaled = scaler.transform(X_train)  \n",
    "\n",
    "display(pd.DataFrame(X_trainScaled).head())\n",
    "X_trainScaled.shape"
   ]
  },
  {
   "cell_type": "markdown",
   "metadata": {},
   "source": [
    "# Model Training"
   ]
  },
  {
   "cell_type": "markdown",
   "metadata": {},
   "source": [
    "Using the MLPClassifier from sklearn\n",
    "We initialize it with a random node size"
   ]
  },
  {
   "cell_type": "code",
   "execution_count": 5,
   "metadata": {},
   "outputs": [
    {
     "name": "stdout",
     "output_type": "stream",
     "text": [
      "Iteration 1, loss = 0.78489161\n",
      "Iteration 2, loss = 0.26249253\n",
      "Iteration 3, loss = 0.19808736\n",
      "Iteration 4, loss = 0.15962997\n",
      "Iteration 5, loss = 0.12860646\n",
      "Iteration 6, loss = 0.10694844\n",
      "Iteration 7, loss = 0.08736076\n",
      "Iteration 8, loss = 0.07266880\n",
      "Iteration 9, loss = 0.06002007\n",
      "Iteration 10, loss = 0.04872699\n",
      "Iteration 11, loss = 0.04125298\n",
      "Iteration 12, loss = 0.03510400\n",
      "Iteration 13, loss = 0.03041467\n",
      "Iteration 14, loss = 0.02562177\n",
      "Iteration 15, loss = 0.02171004\n",
      "Iteration 16, loss = 0.01929073\n",
      "Iteration 17, loss = 0.01702838\n",
      "Iteration 18, loss = 0.01520824\n",
      "Iteration 19, loss = 0.01364352\n",
      "Iteration 20, loss = 0.01254811\n",
      "Iteration 21, loss = 0.01141689\n",
      "Iteration 22, loss = 0.01058697\n",
      "Iteration 23, loss = 0.00980420\n",
      "Iteration 24, loss = 0.00914272\n",
      "Iteration 25, loss = 0.00865563\n",
      "Iteration 26, loss = 0.00818701\n",
      "Iteration 27, loss = 0.00775782\n",
      "Iteration 28, loss = 0.00735126\n",
      "Iteration 29, loss = 0.00707131\n",
      "Iteration 30, loss = 0.00677832\n",
      "Iteration 31, loss = 0.00658478\n",
      "Iteration 32, loss = 0.00633748\n",
      "Iteration 33, loss = 0.00609797\n",
      "Iteration 34, loss = 0.00592779\n",
      "Iteration 35, loss = 0.00576529\n",
      "Iteration 36, loss = 0.00564351\n",
      "Iteration 37, loss = 0.00544656\n",
      "Iteration 38, loss = 0.00531797\n",
      "Iteration 39, loss = 0.00520884\n",
      "Iteration 40, loss = 0.00512229\n",
      "Iteration 41, loss = 0.00500326\n",
      "Iteration 42, loss = 0.00489409\n",
      "Iteration 43, loss = 0.00479286\n",
      "Iteration 44, loss = 0.00473362\n",
      "Iteration 45, loss = 0.00463995\n",
      "Iteration 46, loss = 0.00455991\n",
      "Iteration 47, loss = 0.00449366\n",
      "Iteration 48, loss = 0.00443329\n",
      "Iteration 49, loss = 0.00436834\n",
      "Iteration 50, loss = 0.00431369\n",
      "Iteration 51, loss = 0.00425504\n",
      "Iteration 52, loss = 0.00420822\n",
      "Iteration 53, loss = 0.00414561\n",
      "Iteration 54, loss = 0.00410026\n",
      "Training loss did not improve more than tol=0.000100 for 10 consecutive epochs. Stopping.\n",
      "Training set score: 1.000000\n",
      "Training set loss: 0.004100\n"
     ]
    }
   ],
   "source": [
    "mlp = MLPClassifier(hidden_layer_sizes=(250,), max_iter=1000, alpha=0.001, solver='sgd', verbose=10, tol=1e-4, random_state=1, learning_rate_init=.2, activation = 'logistic',)\n",
    "mlp.fit(X_trainScaled, y_train.values.ravel())  \n",
    "print(\"Training set score: %f\" % mlp.score(X_trainScaled, y_train))\n",
    "print(\"Training set loss: %f\" % mlp.loss_)"
   ]
  },
  {
   "cell_type": "markdown",
   "metadata": {},
   "source": [
    "# Model Evaluation"
   ]
  },
  {
   "cell_type": "markdown",
   "metadata": {},
   "source": [
    "## Creating a Table "
   ]
  },
  {
   "cell_type": "markdown",
   "metadata": {},
   "source": [
    "Creating a table to visualise the effect of Node count on the CV Accuracy"
   ]
  },
  {
   "cell_type": "code",
   "execution_count": 7,
   "metadata": {},
   "outputs": [],
   "source": [
    "CVTable = Table(names=[\"Accuracy\", \"Node Count\"])"
   ]
  },
  {
   "cell_type": "markdown",
   "metadata": {},
   "source": [
    "## Brute-Force Search\n",
    "Iterating through varying Node counts and calculating the CV Accuracy per Node count\n"
   ]
  },
  {
   "cell_type": "code",
   "execution_count": 8,
   "metadata": {
    "scrolled": true
   },
   "outputs": [
    {
     "name": "stdout",
     "output_type": "stream",
     "text": [
      "Accuracy is (0.7922636275665991, 0.0417944388888733)% for 5\n",
      "Accuracy is (0.8854900187495142, 0.01681412150124789)% for 10\n",
      "Accuracy is (0.9174936618793318, 0.011934353176005705)% for 20\n",
      "Accuracy is (0.9282470429820628, 0.007248476963596176)% for 30\n",
      "Accuracy is (0.9367489370192633, 0.006133328581415469)% for 50\n",
      "Accuracy is (0.9378709677618842, 0.012017303360683889)% for 75\n",
      "Accuracy is (0.9386236272480379, 0.0030012136341727204)% for 90\n",
      "Accuracy is (0.9431223899253519, 0.013032707599726568)% for 120\n",
      "Accuracy is (0.9433729308001674, 0.00972255810979768)% for 150\n",
      "Accuracy is (0.942748403555008, 0.00879225344303316)% for 200\n",
      "Accuracy is (0.9433722297723175, 0.005396635394222743)% for 250\n"
     ]
    }
   ],
   "source": [
    "nodes_size = [5,10,20,30,50,75,90,120,150,200,250] #The number of hidden nodes in layer\n",
    "\n",
    "for ns in nodes_size:   \n",
    "    mlp = MLPClassifier(hidden_layer_sizes=(ns,), max_iter=1000, solver='adam', tol=1e-4)\n",
    "    scores = cross_val_score(mlp, X_trainScaled, y_train,cv=5 )\n",
    "    AccuracyCV = (scores.mean(), scores.std() * 2)\n",
    "    print(\"Accuracy is {}% for {}\".format(AccuracyCV, ns))\n",
    "    CVTable.add_row ([scores.mean(), ns]) "
   ]
  },
  {
   "cell_type": "code",
   "execution_count": 9,
   "metadata": {},
   "outputs": [
    {
     "name": "stdout",
     "output_type": "stream",
     "text": [
      "Accuracy Node Count\n",
      "-------- ----------\n",
      "  0.7923        5.0\n",
      "  0.8855       10.0\n",
      "  0.9175       20.0\n",
      "  0.9282       30.0\n",
      "  0.9367       50.0\n",
      "  0.9379       75.0\n",
      "  0.9386       90.0\n",
      "  0.9431      120.0\n",
      "  0.9434      150.0\n",
      "  0.9427      200.0\n",
      "  0.9434      250.0\n",
      "\n",
      "\n",
      "name = Accuracy\n",
      "mean = 0.9190321670235942\n",
      "std = 0.043341077576569575\n",
      "min = 0.7922636275665991\n",
      "max = 0.9433729308001674\n",
      "n_bad = 0\n",
      "length = 11\n"
     ]
    },
    {
     "data": {
      "text/plain": [
       "<matplotlib.axes._subplots.AxesSubplot at 0x1a21aa46a0>"
      ]
     },
     "execution_count": 9,
     "metadata": {},
     "output_type": "execute_result"
    },
    {
     "data": {
      "image/png": "[encoded data removed]",
      "text/plain": [
       "<Figure size 432x288 with 1 Axes>"
      ]
     },
     "metadata": {
      "needs_background": "light"
     },
     "output_type": "display_data"
    }
   ],
   "source": [
    "CVTable['Accuracy'].format = \"%6.4f\"\n",
    "print(CVTable)\n",
    "print(\"\\n\")\n",
    "CVTable['Accuracy'].info('stats')\n",
    "\n",
    "df = CVTable.to_pandas()\n",
    "ax = plt.gca()\n",
    "df.plot(kind='line',x='Node Count',y='Accuracy',ax=ax, title='Accuracy vs Node count')"
   ]
  },
  {
   "cell_type": "markdown",
   "metadata": {},
   "source": [
    "#### Conclusion\n",
    "Since there is little to no increase after 90 Nodes, we will set the Node size to 90"
   ]
  },
  {
   "cell_type": "markdown",
   "metadata": {},
   "source": [
    "# Model Testing"
   ]
  },
  {
   "cell_type": "markdown",
   "metadata": {},
   "source": [
    "## Reading in our testing data\n",
    "Reading in and splitting our testing data. Then proceding to scale it."
   ]
  },
  {
   "cell_type": "code",
   "execution_count": 10,
   "metadata": {},
   "outputs": [
    {
     "name": "stderr",
     "output_type": "stream",
     "text": [
      "/anaconda3/lib/python3.7/site-packages/ipykernel_launcher.py:6: DataConversionWarning: Data with input dtype int64 were all converted to float64 by StandardScaler.\n",
      "  \n"
     ]
    }
   ],
   "source": [
    "test = pd.read_csv(\"group20_test.csv\")\n",
    "m = test.shape[0]\n",
    "n = test.shape[1]-1\n",
    "X_test = test.drop(['784'], axis=1)\n",
    "y_test = test['784'] \n",
    "X_test = scaler.transform(X_test) "
   ]
  },
  {
   "cell_type": "code",
   "execution_count": 11,
   "metadata": {},
   "outputs": [],
   "source": [
    "mlp = MLPClassifier(hidden_layer_sizes=(90,), max_iter=1000, solver='adam', tol=1e-4)\n",
    "mlp.fit(X_trainScaled, y_train.values.ravel())\n",
    "predictions = mlp.predict(X_test)  "
   ]
  },
  {
   "cell_type": "markdown",
   "metadata": {},
   "source": [
    "# Evaluating the Accuracy of our model after testing\n",
    "Below is the confusion matrix for the data as well as the classification report"
   ]
  },
  {
   "cell_type": "code",
   "execution_count": 12,
   "metadata": {},
   "outputs": [
    {
     "name": "stdout",
     "output_type": "stream",
     "text": [
      "              precision    recall  f1-score   support\n",
      "\n",
      "           0       0.97      0.99      0.98       199\n",
      "           1       0.95      0.95      0.95       219\n",
      "           2       0.95      0.93      0.94       215\n",
      "           3       0.95      0.91      0.93       210\n",
      "           4       0.95      0.91      0.93       216\n",
      "           5       0.92      0.95      0.94       199\n",
      "           6       0.96      0.97      0.96       181\n",
      "           7       0.94      0.95      0.95       184\n",
      "           8       0.93      0.89      0.91       207\n",
      "           9       0.87      0.94      0.90       170\n",
      "\n",
      "   micro avg       0.94      0.94      0.94      2000\n",
      "   macro avg       0.94      0.94      0.94      2000\n",
      "weighted avg       0.94      0.94      0.94      2000\n",
      "\n"
     ]
    },
    {
     "data": {
      "image/png": "[encoded data removed]",
      "text/plain": [
       "<Figure size 648x648 with 2 Axes>"
      ]
     },
     "metadata": {
      "needs_background": "light"
     },
     "output_type": "display_data"
    }
   ],
   "source": [
    "cm = confusion_matrix(y_test,predictions)\n",
    "plt.figure(figsize=(9,9))\n",
    "sns.heatmap(cm, annot=True, fmt=\".0f\", linewidths=.5, square = True, cmap = 'Blues_r');\n",
    "plt.ylabel('Actual value')\n",
    "plt.xlabel('Predicted value')\n",
    "print(classification_report(y_test,predictions))"
   ]
  },
  {
   "cell_type": "code",
   "execution_count": 13,
   "metadata": {},
   "outputs": [
    {
     "name": "stdout",
     "output_type": "stream",
     "text": [
      "Precision =  93.93832941434216\n"
     ]
    }
   ],
   "source": [
    "Recall =np.diag(cm) / np.sum(cm,axis=1) \n",
    "Recall = (np.mean(Recall))*100\n",
    "print(\"Precision = \", str(Recall))"
   ]
  },
  {
   "cell_type": "markdown",
   "metadata": {},
   "source": [
    "# Exporting the Model"
   ]
  },
  {
   "cell_type": "code",
   "execution_count": 23,
   "metadata": {},
   "outputs": [
    {
     "data": {
      "text/plain": [
       "['NN.joblib']"
      ]
     },
     "execution_count": 23,
     "metadata": {},
     "output_type": "execute_result"
    }
   ],
   "source": [
    "joblib.dump(mlp, 'NN.joblib') "
   ]
  }
 ],
 "metadata": {
  "kernelspec": {
   "display_name": "Python 3",
   "language": "python",
   "name": "python3"
  },
  "language_info": {
   "codemirror_mode": {
    "name": "ipython",
    "version": 3
   },
   "file_extension": ".py",
   "mimetype": "text/x-python",
   "name": "python",
   "nbconvert_exporter": "python",
   "pygments_lexer": "ipython3",
   "version": "3.7.3"
  }
 },
 "nbformat": 4,
 "nbformat_minor": 2
}
